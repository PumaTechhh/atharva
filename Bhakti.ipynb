{
  "nbformat": 4,
  "nbformat_minor": 0,
  "metadata": {
    "colab": {
      "provenance": []
    },
    "kernelspec": {
      "name": "python3",
      "display_name": "Python 3"
    },
    "language_info": {
      "name": "python"
    }
  },
  "cells": [
    {
      "cell_type": "code",
      "execution_count": 1,
      "metadata": {
        "id": "rPTDp_JSh3Wh"
      },
      "outputs": [],
      "source": [
        "import pandas as pd\n",
        "from sklearn.model_selection import train_test_split\n",
        "from sklearn.preprocessing import StandardScaler, OneHotEncoder\n",
        "from sklearn.compose import ColumnTransformer\n",
        "from sklearn.pipeline import Pipeline\n",
        "from keras.models import Sequential\n",
        "from keras.layers import Dense\n",
        "from sklearn.metrics import confusion_matrix\n",
        "import matplotlib.pyplot as plt\n",
        "import seaborn as sns"
      ]
    },
    {
      "cell_type": "code",
      "source": [
        "dataset = pd.read_csv('/content/sample_data/Churn_Modelling (1).csv')\n",
        "X = dataset.drop(['RowNumber', 'CustomerId', 'Surname', 'Exited'], axis=1).values\n",
        "Y = dataset['Exited'].values"
      ],
      "metadata": {
        "id": "1zam82YwiL6y"
      },
      "execution_count": 3,
      "outputs": []
    },
    {
      "cell_type": "code",
      "source": [
        "preprocessor = ColumnTransformer(\n",
        "    transformers=[\n",
        "        ('geo_gender', OneHotEncoder(drop='first'), [1, 2]),  # Encode 'Geography' and 'Gender'\n",
        "        ('scaler', StandardScaler(), [0, 3, 4, 5, 6, 7, 8])  # Scale numerical features\n",
        "    ])\n",
        "\n",
        "X = preprocessor.fit_transform(X)"
      ],
      "metadata": {
        "id": "kbdJRiQvic2n"
      },
      "execution_count": 4,
      "outputs": []
    },
    {
      "cell_type": "code",
      "source": [
        "X_train, X_test, y_train, y_test = train_test_split(X, Y, test_size=0.2, random_state=0)"
      ],
      "metadata": {
        "id": "mFXUkVs6i3BR"
      },
      "execution_count": 5,
      "outputs": []
    },
    {
      "cell_type": "code",
      "source": [
        "model = Sequential([\n",
        "    Dense(6, activation='relu', input_dim=X_train.shape[1]),\n",
        "    Dense(6, activation='relu'),\n",
        "    Dense(1, activation='sigmoid')\n",
        "])"
      ],
      "metadata": {
        "colab": {
          "base_uri": "https://localhost:8080/"
        },
        "id": "ikqUVkAni6KV",
        "outputId": "9f66c8b2-df9a-4ce5-cc79-a09ff5e64a3d"
      },
      "execution_count": 6,
      "outputs": [
        {
          "output_type": "stream",
          "name": "stderr",
          "text": [
            "/usr/local/lib/python3.10/dist-packages/keras/src/layers/core/dense.py:87: UserWarning: Do not pass an `input_shape`/`input_dim` argument to a layer. When using Sequential models, prefer using an `Input(shape)` object as the first layer in the model instead.\n",
            "  super().__init__(activity_regularizer=activity_regularizer, **kwargs)\n"
          ]
        }
      ]
    },
    {
      "cell_type": "code",
      "source": [
        "model.compile(optimizer='adam', loss='binary_crossentropy', metrics=['accuracy'])"
      ],
      "metadata": {
        "id": "_SFn64KBjHKY"
      },
      "execution_count": 7,
      "outputs": []
    },
    {
      "cell_type": "code",
      "source": [
        "model.fit(X_train, y_train, epochs=15, batch_size=32, validation_split=0.1, verbose=2)"
      ],
      "metadata": {
        "colab": {
          "base_uri": "https://localhost:8080/"
        },
        "id": "1DdnzA8HjLt4",
        "outputId": "419c164f-812d-48dd-b646-b167b6a35453"
      },
      "execution_count": 8,
      "outputs": [
        {
          "output_type": "stream",
          "name": "stdout",
          "text": [
            "Epoch 1/15\n",
            "225/225 - 3s - 14ms/step - accuracy: 0.6811 - loss: 0.6307 - val_accuracy: 0.7900 - val_loss: 0.5179\n",
            "Epoch 2/15\n",
            "225/225 - 1s - 2ms/step - accuracy: 0.7942 - loss: 0.5009 - val_accuracy: 0.7950 - val_loss: 0.4550\n",
            "Epoch 3/15\n",
            "225/225 - 1s - 2ms/step - accuracy: 0.7961 - loss: 0.4554 - val_accuracy: 0.7950 - val_loss: 0.4238\n",
            "Epoch 4/15\n",
            "225/225 - 0s - 1ms/step - accuracy: 0.7999 - loss: 0.4274 - val_accuracy: 0.8163 - val_loss: 0.4053\n",
            "Epoch 5/15\n",
            "225/225 - 1s - 3ms/step - accuracy: 0.8267 - loss: 0.4083 - val_accuracy: 0.8413 - val_loss: 0.3906\n",
            "Epoch 6/15\n",
            "225/225 - 1s - 3ms/step - accuracy: 0.8360 - loss: 0.3936 - val_accuracy: 0.8537 - val_loss: 0.3739\n",
            "Epoch 7/15\n",
            "225/225 - 1s - 3ms/step - accuracy: 0.8433 - loss: 0.3793 - val_accuracy: 0.8600 - val_loss: 0.3580\n",
            "Epoch 8/15\n",
            "225/225 - 1s - 3ms/step - accuracy: 0.8481 - loss: 0.3679 - val_accuracy: 0.8600 - val_loss: 0.3467\n",
            "Epoch 9/15\n",
            "225/225 - 1s - 3ms/step - accuracy: 0.8554 - loss: 0.3609 - val_accuracy: 0.8575 - val_loss: 0.3402\n",
            "Epoch 10/15\n",
            "225/225 - 1s - 3ms/step - accuracy: 0.8558 - loss: 0.3567 - val_accuracy: 0.8675 - val_loss: 0.3358\n",
            "Epoch 11/15\n",
            "225/225 - 0s - 2ms/step - accuracy: 0.8576 - loss: 0.3533 - val_accuracy: 0.8700 - val_loss: 0.3331\n",
            "Epoch 12/15\n",
            "225/225 - 1s - 3ms/step - accuracy: 0.8592 - loss: 0.3514 - val_accuracy: 0.8687 - val_loss: 0.3307\n",
            "Epoch 13/15\n",
            "225/225 - 1s - 3ms/step - accuracy: 0.8618 - loss: 0.3501 - val_accuracy: 0.8662 - val_loss: 0.3300\n",
            "Epoch 14/15\n",
            "225/225 - 0s - 1ms/step - accuracy: 0.8596 - loss: 0.3491 - val_accuracy: 0.8712 - val_loss: 0.3290\n",
            "Epoch 15/15\n",
            "225/225 - 1s - 3ms/step - accuracy: 0.8604 - loss: 0.3477 - val_accuracy: 0.8650 - val_loss: 0.3291\n"
          ]
        },
        {
          "output_type": "execute_result",
          "data": {
            "text/plain": [
              "<keras.src.callbacks.history.History at 0x7c087081f730>"
            ]
          },
          "metadata": {},
          "execution_count": 8
        }
      ]
    },
    {
      "cell_type": "code",
      "source": [
        "y_pred = (model.predict(X_test) > 0.5).astype(int)\n",
        "cm = confusion_matrix(y_test, y_pred)\n",
        "accuracy = (cm[0][0] + cm[1][1]) / len(y_test) * 100\n",
        "\n",
        "print(f'Confusion Matrix:\\n{cm}')\n",
        "print(f'Accuracy: {accuracy:.2f}%')\n",
        "\n",
        "plt.figure(figsize=(6, 5))\n",
        "sns.heatmap(cm, annot=True, fmt='d', cmap='Reds', cbar=False, xticklabels=['Stayed', 'Exited'], yticklabels=['Stayed', 'Exited'])\n",
        "plt.title('Confusion Matrix')\n",
        "plt.xlabel('Predicted')\n",
        "plt.ylabel('Actual')\n",
        "plt.show()"
      ],
      "metadata": {
        "colab": {
          "base_uri": "https://localhost:8080/",
          "height": 578
        },
        "id": "rCHfGF0njOsX",
        "outputId": "77a521c3-5449-465d-efdf-fa5f4b2a13ac"
      },
      "execution_count": 12,
      "outputs": [
        {
          "output_type": "stream",
          "name": "stdout",
          "text": [
            "\u001b[1m63/63\u001b[0m \u001b[32m━━━━━━━━━━━━━━━━━━━━\u001b[0m\u001b[37m\u001b[0m \u001b[1m0s\u001b[0m 2ms/step\n",
            "Confusion Matrix:\n",
            "[[1529   66]\n",
            " [ 204  201]]\n",
            "Accuracy: 86.50%\n"
          ]
        },
        {
          "output_type": "display_data",
          "data": {
            "text/plain": [
              "<Figure size 600x500 with 1 Axes>"
            ],
            "image/png": "[encoded data removed]"
          },
          "metadata": {}
        }
      ]
    },
    {
      "cell_type": "code",
      "source": [],
      "metadata": {
        "id": "C12cgQATjTIe"
      },
      "execution_count": null,
      "outputs": []
    }
  ]
}