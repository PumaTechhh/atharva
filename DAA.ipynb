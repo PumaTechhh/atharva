{
 "cells": [
  {
   "cell_type": "markdown",
   "id": "d4ebde24-fe0f-4333-95f3-9f1ff836e50d",
   "metadata": {},
   "source": [
    "Write a program non-recursive program to calculate Fibonacci numbers and analyze their time and\n",
    "space complexity.\n",
    "&\n",
    "Write a program recursive program to calculate Fibonacci numbers and analyze their time and space\n",
    "complexity."
   ]
  },
  {
   "cell_type": "markdown",
   "id": "99a358be-cdae-4cf7-8ec3-1608889269da",
   "metadata": {},
   "source": [
    "Time and Space Complexity:\n",
    "Non-Recursive Fibonacci:\n",
    "Time Complexity: 𝑂(𝑛) as it iterates through a loop for n terms.\n",
    "Space Complexity: 𝑂(𝑛) for storing the Fibonacci series up to n terms.\n",
    "\n",
    "Recursive Fibonacci:\n",
    "Time Complexity: 𝑂(2𝑛) because the recursion tree grows exponentially.\n",
    "Space Complexity: 𝑂(𝑛)for the recursion stack."
   ]
  },
  {
   "cell_type": "code",
   "execution_count": 3,
   "id": "fa9bb946-c151-496f-a8cd-42470a60c9cd",
   "metadata": {},
   "outputs": [
    {
     "name": "stdin",
     "output_type": "stream",
     "text": [
      "Enter the number of terms for Fibonacci sequence:  6\n",
      "Choose method (recursive/non-recursive):  non-recursive\n"
     ]
    },
    {
     "name": "stdout",
     "output_type": "stream",
     "text": [
      "Fibonacci series (non-recursive) up to 6 terms: [0, 1, 1, 2, 3, 5]\n"
     ]
    }
   ],
   "source": [
    "def fibonacci(n, method=\"non-recursive\"):\n",
    "    # Non-recursive Fibonacci (Iterative)\n",
    "    if method == \"non-recursive\":\n",
    "        fib_series = []\n",
    "        a, b = 0, 1\n",
    "        for _ in range(n):\n",
    "            fib_series.append(a)\n",
    "            a, b = b, a + b\n",
    "        return fib_series\n",
    "    \n",
    "    # Recursive Fibonacci\n",
    "    def fibonacci_recursive(n, fib_series=None):\n",
    "        if fib_series is None:\n",
    "            fib_series = []\n",
    "        if n <= 1:\n",
    "            fib_series.append(n)\n",
    "            return fib_series\n",
    "        fibonacci_recursive(n-1, fib_series)\n",
    "        fib_series.append(fib_series[-2] + fib_series[-1] if len(fib_series) >= 2 else 1)\n",
    "        return fib_series\n",
    "    \n",
    "    return fibonacci_recursive(n)\n",
    "\n",
    "# Taking input from the user\n",
    "n = int(input(\"Enter the number of terms for Fibonacci sequence: \"))\n",
    "method = input(\"Choose method (recursive/non-recursive): \").strip().lower()\n",
    "\n",
    "# Get the Fibonacci series\n",
    "fib_series = fibonacci(n, method)\n",
    "\n",
    "# Display the Fibonacci series\n",
    "print(f\"Fibonacci series ({method}) up to {n} terms: {fib_series}\")\n",
    "\n",
    "\n"
   ]
  },
  {
   "cell_type": "markdown",
   "id": "fa4b255b-1d9e-4830-a47b-ba758db8ae4b",
   "metadata": {},
   "source": [
    "Write a program to solve a 0-1 Knapsack problem using branch and bound strategy."
   ]
  },
  {
   "cell_type": "code",
   "execution_count": 5,
   "id": "075b5cb5-dd6c-4599-9763-4cf7a70aa8f6",
   "metadata": {},
   "outputs": [
    {
     "name": "stdin",
     "output_type": "stream",
     "text": [
      "Enter knapsack capacity:  10\n",
      "Enter weights of items:  2 3 4 5\n",
      "Enter profits of items:  1 2 5 6\n"
     ]
    },
    {
     "name": "stdout",
     "output_type": "stream",
     "text": [
      "Maximum Profit: 11\n"
     ]
    }
   ],
   "source": [
    "import heapq\n",
    "\n",
    "class Node:\n",
    "    def __init__(self, level, profit, weight, bound):\n",
    "        self.level = level\n",
    "        self.profit = profit\n",
    "        self.weight = weight\n",
    "        self.bound = bound\n",
    "\n",
    "    def __lt__(self, other):\n",
    "        return self.bound > other.bound\n",
    "\n",
    "def bound(node, n, W, weights, profits):\n",
    "    if node.weight >= W:\n",
    "        return 0\n",
    "    profit_bound = node.profit\n",
    "    j = node.level + 1\n",
    "    total_weight = node.weight\n",
    "    while j < n and total_weight + weights[j] <= W:\n",
    "        total_weight += weights[j]\n",
    "        profit_bound += profits[j]\n",
    "        j += 1\n",
    "    if j < n:\n",
    "        profit_bound += (W - total_weight) * (profits[j] / weights[j])\n",
    "    return profit_bound\n",
    "\n",
    "def knapsack_branch_and_bound(W, weights, profits):\n",
    "    n = len(weights)\n",
    "    queue = []\n",
    "    u = Node(-1, 0, 0, 0)\n",
    "    v = Node(0, 0, 0, 0)\n",
    "    max_profit = 0\n",
    "    u.bound = bound(u, n, W, weights, profits)\n",
    "    heapq.heappush(queue, u)\n",
    "\n",
    "    while queue:\n",
    "        u = heapq.heappop(queue)\n",
    "        if u.bound > max_profit and u.level < n - 1:\n",
    "            v.level = u.level + 1\n",
    "            v.weight = u.weight + weights[v.level]\n",
    "            v.profit = u.profit + profits[v.level]\n",
    "            if v.weight <= W and v.profit > max_profit:\n",
    "                max_profit = v.profit\n",
    "            v.bound = bound(v, n, W, weights, profits)\n",
    "            if v.bound > max_profit:\n",
    "                heapq.heappush(queue, Node(v.level, v.profit, v.weight, v.bound))\n",
    "            v.weight = u.weight\n",
    "            v.profit = u.profit\n",
    "            v.bound = bound(v, n, W, weights, profits)\n",
    "            if v.bound > max_profit:\n",
    "                heapq.heappush(queue, Node(v.level, v.profit, v.weight, v.bound))\n",
    "    return max_profit\n",
    "\n",
    "# Sample Input\n",
    "W = int(input(\"Enter knapsack capacity: \"))\n",
    "weights = list(map(int, input(\"Enter weights of items: \").split()))\n",
    "profits = list(map(int, input(\"Enter profits of items: \").split()))\n",
    "print(\"Maximum Profit:\", knapsack_branch_and_bound(W, weights, profits))\n"
   ]
  },
  {
   "cell_type": "markdown",
   "id": "4b12298c-805f-45d2-a1ae-917dd140463a",
   "metadata": {},
   "source": [
    "Write a program to implement Huffman Encoding using a greedy strategy."
   ]
  },
  {
   "cell_type": "code",
   "execution_count": 7,
   "id": "63c5908c-f713-4b6e-b55d-e3a21463fcbc",
   "metadata": {},
   "outputs": [
    {
     "name": "stdin",
     "output_type": "stream",
     "text": [
      "Enter text for Huffman Encoding:  huffman\n"
     ]
    },
    {
     "name": "stdout",
     "output_type": "stream",
     "text": [
      "Character Codes: {'u': '00', 'f': '01', 'n': '100', 'h': '101', 'a': '110', 'm': '111'}\n"
     ]
    }
   ],
   "source": [
    "import heapq\n",
    "from collections import defaultdict\n",
    "\n",
    "class Node:\n",
    "    def __init__(self, freq, char=None):\n",
    "        self.freq = freq\n",
    "        self.char = char\n",
    "        self.left = None\n",
    "        self.right = None\n",
    "\n",
    "    def __lt__(self, other):\n",
    "        return self.freq < other.freq\n",
    "\n",
    "def huffman_encoding(frequencies):\n",
    "    heap = [Node(freq, char) for char, freq in frequencies.items()]\n",
    "    heapq.heapify(heap)\n",
    "\n",
    "    while len(heap) > 1:\n",
    "        left = heapq.heappop(heap)\n",
    "        right = heapq.heappop(heap)\n",
    "        merged = Node(left.freq + right.freq)\n",
    "        merged.left, merged.right = left, right\n",
    "        heapq.heappush(heap, merged)\n",
    "\n",
    "    codes = {}\n",
    "    def generate_codes(node, code=\"\"):\n",
    "        if node:\n",
    "            if node.char:\n",
    "                codes[node.char] = code\n",
    "            generate_codes(node.left, code + \"0\")\n",
    "            generate_codes(node.right, code + \"1\")\n",
    "    generate_codes(heap[0])\n",
    "    return codes\n",
    "\n",
    "# Sample Input\n",
    "text = input(\"Enter text for Huffman Encoding: \")\n",
    "frequencies = defaultdict(int)\n",
    "for char in text:\n",
    "    frequencies[char] += 1\n",
    "\n",
    "codes = huffman_encoding(frequencies)\n",
    "print(\"Character Codes:\", codes)\n"
   ]
  },
  {
   "cell_type": "markdown",
   "id": "d4f5aa77-8b72-4501-827c-775b7ba819ee",
   "metadata": {},
   "source": [
    "Write a program to solve a fractional Knapsack problem using a greedy method."
   ]
  },
  {
   "cell_type": "code",
   "execution_count": 8,
   "id": "8db64718-a5f0-4df0-bd94-675dc7cb1d00",
   "metadata": {},
   "outputs": [
    {
     "name": "stdin",
     "output_type": "stream",
     "text": [
      "Enter knapsack capacity:  50\n",
      "Enter weights of items:  10 20 30 \n",
      "Enter profits of items:  45 63 23\n"
     ]
    },
    {
     "name": "stdout",
     "output_type": "stream",
     "text": [
      "Maximum Profit: 123.33333333333333\n"
     ]
    }
   ],
   "source": [
    "def fractional_knapsack(W, weights, profits):\n",
    "    items = [(profits[i] / weights[i], weights[i], profits[i]) for i in range(len(weights))]\n",
    "    items.sort(reverse=True, key=lambda x: x[0])\n",
    "\n",
    "    max_profit = 0\n",
    "    for ratio, weight, profit in items:\n",
    "        if W >= weight:\n",
    "            W -= weight\n",
    "            max_profit += profit\n",
    "        else:\n",
    "            max_profit += ratio * W\n",
    "            break\n",
    "    return max_profit\n",
    "\n",
    "# Sample Input\n",
    "W = int(input(\"Enter knapsack capacity: \"))\n",
    "weights = list(map(int, input(\"Enter weights of items: \").split()))\n",
    "profits = list(map(int, input(\"Enter profits of items: \").split()))\n",
    "print(\"Maximum Profit:\", fractional_knapsack(W, weights, profits))\n"
   ]
  },
  {
   "cell_type": "markdown",
   "id": "9556263e-d582-4871-bfb2-86608b1a5ee7",
   "metadata": {},
   "source": [
    "Write a program to solve a 0-1 Knapsack problem using dynamic programming strategy."
   ]
  },
  {
   "cell_type": "code",
   "execution_count": 9,
   "id": "c300b3c1-b672-471c-a5c5-0a02068ce0a7",
   "metadata": {},
   "outputs": [
    {
     "name": "stdin",
     "output_type": "stream",
     "text": [
      "Enter knapsack capacity:  10\n",
      "Enter weights of items:  1 2 3 4\n",
      "Enter profits of items:  5 3 7 8 \n"
     ]
    },
    {
     "name": "stdout",
     "output_type": "stream",
     "text": [
      "Maximum Profit: 23\n"
     ]
    }
   ],
   "source": [
    "def knapsack_dp(W, weights, profits):\n",
    "    n = len(weights)\n",
    "    dp = [[0] * (W + 1) for _ in range(n + 1)]\n",
    "\n",
    "    for i in range(1, n + 1):\n",
    "        for w in range(W + 1):\n",
    "            if weights[i - 1] <= w:\n",
    "                dp[i][w] = max(dp[i - 1][w], profits[i - 1] + dp[i - 1][w - weights[i - 1]])\n",
    "            else:\n",
    "                dp[i][w] = dp[i - 1][w]\n",
    "    return dp[n][W]\n",
    "\n",
    "# Sample Input\n",
    "W = int(input(\"Enter knapsack capacity: \"))\n",
    "weights = list(map(int, input(\"Enter weights of items: \").split()))\n",
    "profits = list(map(int, input(\"Enter profits of items: \").split()))\n",
    "print(\"Maximum Profit:\", knapsack_dp(W, weights, profits))\n"
   ]
  },
  {
   "cell_type": "code",
   "execution_count": null,
   "id": "cc2926b6-7286-471d-a0ce-d2cbab88d84c",
   "metadata": {},
   "outputs": [],
   "source": []
  }
 ],
 "metadata": {
  "kernelspec": {
   "display_name": "Python 3 (ipykernel)",
   "language": "python",
   "name": "python3"
  },
  "language_info": {
   "codemirror_mode": {
    "name": "ipython",
    "version": 3
   },
   "file_extension": ".py",
   "mimetype": "text/x-python",
   "name": "python",
   "nbconvert_exporter": "python",
   "pygments_lexer": "ipython3",
   "version": "3.12.4"
  }
 },
 "nbformat": 4,
 "nbformat_minor": 5
}
